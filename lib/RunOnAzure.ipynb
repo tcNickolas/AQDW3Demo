{
 "cells": [
  {
   "cell_type": "markdown",
   "id": "e2a1d1ec",
   "metadata": {},
   "source": [
    "# Solving a modular equation - Running on IonQ via Azure Quantum\n",
    "\n",
    "## Load the libraries"
   ]
  },
  {
   "cell_type": "code",
   "execution_count": null,
   "id": "6997951c",
   "metadata": {
    "scrolled": true
   },
   "outputs": [],
   "source": [
    "import qsharp\n",
    "import qsharp.azure\n",
    "from SolveModularEquation import FindEquationSolution\n",
    "from SolveModularEquationSimplified import FindEquationSolutionSimplified"
   ]
  },
  {
   "cell_type": "markdown",
   "id": "fc791971",
   "metadata": {},
   "source": [
    "## Run the simulation from Python"
   ]
  },
  {
   "cell_type": "code",
   "execution_count": null,
   "id": "c7bf3700",
   "metadata": {},
   "outputs": [],
   "source": [
    "def littleendian_int(bits):\n",
    "    bits.reverse()\n",
    "    x = 0\n",
    "    for bit in bits:\n",
    "        x = x * 2 + bit\n",
    "    return x\n",
    "\n",
    "answerBits = FindEquationSolutionSimplified.simulate(a=1, b=2, c=4)\n",
    "print(answerBits)\n",
    "answer = littleendian_int(answerBits)\n",
    "print(\"x = \" + str(answer))"
   ]
  },
  {
   "cell_type": "markdown",
   "id": "0fb6c020",
   "metadata": {},
   "source": [
    "## Estimate the resources required to run the algorithm to solve this equation"
   ]
  },
  {
   "cell_type": "code",
   "execution_count": null,
   "id": "08d34cc0",
   "metadata": {},
   "outputs": [],
   "source": [
    "FindEquationSolutionSimplified.estimate_resources(\n",
    "    b=2\n",
    ")"
   ]
  },
  {
   "cell_type": "markdown",
   "id": "e64d5b26",
   "metadata": {},
   "source": [
    "We have 11 qubits on the IonQ system available via Azure Quantum, so this is feasible to run!"
   ]
  },
  {
   "cell_type": "markdown",
   "id": "a470b9ad",
   "metadata": {},
   "source": [
    "## Connect to Azure Quantum"
   ]
  },
  {
   "cell_type": "code",
   "execution_count": null,
   "id": "b453d977",
   "metadata": {
    "scrolled": true
   },
   "outputs": [],
   "source": [
    "qsharp.azure.connect(\n",
    "    subscription=\"...\",\n",
    "    resourceGroup=\"...\",\n",
    "    workspace=\"...\",\n",
    "    location=\"...\")"
   ]
  },
  {
   "cell_type": "markdown",
   "id": "d1a9f009",
   "metadata": {},
   "source": [
    "## Submit job to IonQ simulator"
   ]
  },
  {
   "cell_type": "code",
   "execution_count": null,
   "id": "96614edf",
   "metadata": {},
   "outputs": [],
   "source": [
    "qsharp.azure.target(\"ionq.simulator\")"
   ]
  },
  {
   "cell_type": "code",
   "execution_count": null,
   "id": "76337c4b",
   "metadata": {},
   "outputs": [],
   "source": [
    "b = 2\n",
    "job = qsharp.azure.submit(\n",
    "    FindEquationSolutionSimplified, b=b, shots=100, jobName=f\"Solving equation x + {b} = 0 (mod 4)\"\n",
    ")"
   ]
  },
  {
   "cell_type": "markdown",
   "id": "dd1987a3",
   "metadata": {},
   "source": [
    "Check job status"
   ]
  },
  {
   "cell_type": "code",
   "execution_count": null,
   "id": "7a2f8d8f",
   "metadata": {},
   "outputs": [],
   "source": [
    "def print_status(st):\n",
    "    print(st.status + \" | \" + st.name + \" | \" + st.target + \" | \" +\n",
    "          st.creation_time + \" | \" + st.end_execution_time)\n",
    "\n",
    "job_id = job.id\n",
    "status = qsharp.azure.status(job_id)\n",
    "print_status(status)"
   ]
  },
  {
   "cell_type": "markdown",
   "id": "72fd6f55",
   "metadata": {},
   "source": [
    "Fetch job results and interpret them"
   ]
  },
  {
   "cell_type": "code",
   "execution_count": null,
   "id": "ebc70832",
   "metadata": {},
   "outputs": [],
   "source": [
    "result = qsharp.azure.output(job_id)\n",
    "print(result)"
   ]
  },
  {
   "cell_type": "code",
   "execution_count": null,
   "id": "07482248",
   "metadata": {},
   "outputs": [],
   "source": [
    "import matplotlib.pyplot as plt\n",
    "plt.bar(result.keys(), result.values())\n",
    "plt.show()"
   ]
  },
  {
   "cell_type": "code",
   "execution_count": null,
   "id": "4914b54f",
   "metadata": {},
   "outputs": [],
   "source": [
    "import ast\n",
    "\n",
    "def most_frequent_key(histogram):\n",
    "    # Get the most frequent key of the histogram\n",
    "    mostFrequentBitsStr = max(histogram, key=histogram.get)\n",
    "    # Convert the key to an array of ints\n",
    "    mostFrequentBits = ast.literal_eval(mostFrequentBitsStr)\n",
    "    # Convert the little endian notation into an integer - the solution of the equation\n",
    "    answer = littleendian_int(mostFrequentBits)\n",
    "    return answer\n",
    "\n",
    "print(\"x = \" + str(most_frequent_key(result)))"
   ]
  },
  {
   "cell_type": "markdown",
   "id": "3ab271af",
   "metadata": {},
   "source": [
    "## Run the job on IonQ hardware\n",
    "\n",
    "Now we are ready to run on hardware! Switch to the QPU."
   ]
  },
  {
   "cell_type": "code",
   "execution_count": null,
   "id": "ba59afe4",
   "metadata": {
    "scrolled": true
   },
   "outputs": [],
   "source": [
    "qsharp.azure.target(\"ionq.qpu\")"
   ]
  },
  {
   "cell_type": "markdown",
   "id": "848b6e47",
   "metadata": {},
   "source": [
    "Submitting the jobs looks exactly like it does for the simulator."
   ]
  },
  {
   "cell_type": "code",
   "execution_count": null,
   "id": "db389f31",
   "metadata": {},
   "outputs": [],
   "source": [
    "job_hw = qsharp.azure.submit(\n",
    "    FindEquationSolutionSimplified, b=b, shots=1000, jobName=f\"Solving equation x + {b} = 0 (mod 4) on hardware\"\n",
    ")"
   ]
  },
  {
   "cell_type": "markdown",
   "id": "35be6c1a",
   "metadata": {},
   "source": [
    "For this demo, we'll use the results of a job submitted to the hardware when preparing the demo, rather than submit live."
   ]
  },
  {
   "cell_type": "code",
   "execution_count": null,
   "id": "88550cad",
   "metadata": {},
   "outputs": [],
   "source": [
    "job_id_hw = '...'\n",
    "status_hw = qsharp.azure.status(job_id_hw)\n",
    "print_status(status_hw)"
   ]
  },
  {
   "cell_type": "markdown",
   "id": "0482fdba",
   "metadata": {},
   "source": [
    "Get the result"
   ]
  },
  {
   "cell_type": "code",
   "execution_count": null,
   "id": "9b661c59",
   "metadata": {},
   "outputs": [],
   "source": [
    "result_hw = qsharp.azure.output(job_id_hw)\n",
    "print(result_hw)"
   ]
  },
  {
   "cell_type": "code",
   "execution_count": null,
   "id": "0627a344",
   "metadata": {},
   "outputs": [],
   "source": [
    "plt.bar(result_hw.keys(), result_hw.values())\n",
    "plt.show()"
   ]
  },
  {
   "cell_type": "code",
   "execution_count": null,
   "id": "712c2929",
   "metadata": {},
   "outputs": [],
   "source": [
    "print(\"x = \" + str(most_frequent_key(result_hw)))"
   ]
  }
 ],
 "metadata": {
  "kernelspec": {
   "display_name": "Python 3",
   "language": "python",
   "name": "python3"
  },
  "language_info": {
   "codemirror_mode": {
    "name": "ipython",
    "version": 3
   },
   "file_extension": ".py",
   "mimetype": "text/x-python",
   "name": "python",
   "nbconvert_exporter": "python",
   "pygments_lexer": "ipython3",
   "version": "3.7.10"
  }
 },
 "nbformat": 4,
 "nbformat_minor": 5
}
